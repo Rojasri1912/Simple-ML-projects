{
  "nbformat": 4,
  "nbformat_minor": 0,
  "metadata": {
    "colab": {
      "provenance": []
    },
    "kernelspec": {
      "name": "python3",
      "display_name": "Python 3"
    },
    "language_info": {
      "name": "python"
    }
  },
  "cells": [
    {
      "cell_type": "code",
      "execution_count": null,
      "metadata": {
        "colab": {
          "base_uri": "https://localhost:8080/"
        },
        "id": "-b5gxAELS4pp",
        "outputId": "dd717036-fd06-4387-e5e0-87e00c6ac059"
      },
      "outputs": [
        {
          "output_type": "stream",
          "name": "stdout",
          "text": [
            "Most common cuisine combinations:\n",
            "Cuisines\n",
            "North Indian                      936\n",
            "North Indian, Chinese             511\n",
            "Chinese                           354\n",
            "Fast Food                         354\n",
            "North Indian, Mughlai             334\n",
            "Cafe                              299\n",
            "Bakery                            218\n",
            "North Indian, Mughlai, Chinese    197\n",
            "Bakery, Desserts                  170\n",
            "Street Food                       149\n",
            "Name: count, dtype: int64\n"
          ]
        }
      ],
      "source": [
        "import pandas as pd\n",
        "import matplotlib.pyplot as plt\n",
        "data = pd.read_csv(\"/content/drive/MyDrive/Dataset .csv\")\n",
        "cuisines = data[\"Cuisines\"]\n",
        "aggregate_ratings = data[\"Aggregate rating\"]\n",
        "cuisine_combinations_counts = cuisines.value_counts()\n",
        "most_common_cuisine_combinations = cuisine_combinations_counts.head(10)\n",
        "print(\"Most common cuisine combinations:\")\n",
        "print(most_common_cuisine_combinations)"
      ]
    },
    {
      "cell_type": "code",
      "source": [
        "cuisine_combinations_avg_rating = data.groupby(\"Cuisines\")[\"Aggregate rating\"].mean()\n",
        "top_10_avg_ratings = cuisine_combinations_avg_rating.nlargest(10)\n",
        "print(\"\\nAverage ratings for the top 10 cuisine combinations:\")\n",
        "print(top_10_avg_ratings)"
      ],
      "metadata": {
        "colab": {
          "base_uri": "https://localhost:8080/"
        },
        "id": "An-cvXAOToN5",
        "outputId": "c4f77a76-13a4-4a0d-9d76-1b50b4a2058e"
      },
      "execution_count": null,
      "outputs": [
        {
          "output_type": "stream",
          "name": "stdout",
          "text": [
            "\n",
            "Average ratings for the top 10 cuisine combinations:\n",
            "Cuisines\n",
            "American, BBQ, Sandwich         4.9\n",
            "American, Burger, Grill         4.9\n",
            "American, Caribbean, Seafood    4.9\n",
            "American, Coffee and Tea        4.9\n",
            "American, Sandwich, Tea         4.9\n",
            "BBQ, Breakfast, Southern        4.9\n",
            "Burger, Bar Food, Steak         4.9\n",
            "Continental, Indian             4.9\n",
            "European, Asian, Indian         4.9\n",
            "European, Contemporary          4.9\n",
            "Name: Aggregate rating, dtype: float64\n"
          ]
        }
      ]
    }
  ]
}